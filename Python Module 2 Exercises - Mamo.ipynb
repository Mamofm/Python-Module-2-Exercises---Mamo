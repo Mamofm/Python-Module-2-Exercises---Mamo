{
 "cells": [
  {
   "cell_type": "markdown",
   "metadata": {},
   "source": [
    "1. Print out a data type of a variable?"
   ]
  },
  {
   "cell_type": "code",
   "execution_count": 1,
   "metadata": {},
   "outputs": [
    {
     "name": "stdout",
     "output_type": "stream",
     "text": [
      "<class 'str'>\n",
      "<class 'float'>\n"
     ]
    }
   ],
   "source": [
    "print (type ('Hello friend'))\n",
    "print (type (123.9897))"
   ]
  },
  {
   "cell_type": "markdown",
   "metadata": {},
   "source": [
    "2. Round 4.5667 to the nearest hundreth using a build-in function, round()."
   ]
  },
  {
   "cell_type": "code",
   "execution_count": 4,
   "metadata": {},
   "outputs": [
    {
     "name": "stdout",
     "output_type": "stream",
     "text": [
      "4.57\n"
     ]
    }
   ],
   "source": [
    "digit = 4.5667\n",
    "print (round(digit,2))"
   ]
  },
  {
   "cell_type": "markdown",
   "metadata": {},
   "source": [
    "3. Convert \"657\" to an integer data type"
   ]
  },
  {
   "cell_type": "code",
   "execution_count": 5,
   "metadata": {},
   "outputs": [
    {
     "name": "stdout",
     "output_type": "stream",
     "text": [
      "57\n"
     ]
    }
   ],
   "source": [
    "print (int('57'))"
   ]
  },
  {
   "cell_type": "markdown",
   "metadata": {},
   "source": [
    "4. Write a function to calculate the miles per gallon.\n",
    "Get a miles driven and gallons used from a user and call your function to calculate the miles per gallon. "
   ]
  },
  {
   "cell_type": "code",
   "execution_count": 16,
   "metadata": {},
   "outputs": [
    {
     "name": "stdout",
     "output_type": "stream",
     "text": [
      "Enter Miles driven: 150\n",
      "Enter Gallon used:  15\n",
      "10.0\n"
     ]
    }
   ],
   "source": [
    "miles = float (input(\"Enter Miles driven: \"))\n",
    "gaseUsed = float (input(\"Enter Gallon used:  \"))\n",
    "\n",
    "mpg =  float (miles / gaseUsed )\n",
    "print ( float(mpg))\n"
   ]
  },
  {
   "cell_type": "markdown",
   "metadata": {},
   "source": [
    "5. Enhance your function from exercise 3. Additionally, get a gas price per gallon from a user and write a program to compute the total gas cost and cost per mile. \n",
    "\n",
    "The output should look something like this:\n",
    "\n",
    "    Enter miles driven:            150\n",
    "    Enter gallons of gas used:     15\n",
    "    Enter cost per gallon:          3\n",
    "\n",
    "    Miles Per Gallon:   10.0\n",
    "    Total Gas Cost:     45.0\n",
    "    Cost per Mile:      0.3\n"
   ]
  },
  {
   "cell_type": "code",
   "execution_count": 18,
   "metadata": {},
   "outputs": [
    {
     "name": "stdout",
     "output_type": "stream",
     "text": [
      "Enter Miles driven: 150\n",
      "Enter Gallon used:  15\n",
      "Enter cost per gallon: 3\n",
      "\n",
      "Miles Per Gallon:   10.0\n",
      "Total Gas Cost:     45.0\n",
      "Cost per Mile:   0.3\n"
     ]
    }
   ],
   "source": [
    "miles = float (input(\"Enter Miles driven: \"))\n",
    "gasUsed = float (input (\"Enter Gallon used:  \"))\n",
    "costPerGalon  = float (input(\"Enter cost per gallon: \"))\n",
    "costPerMile = float (costPerGalon / (miles / gaseUsed ))\n",
    "\n",
    "mpg =  float (miles / gaseUsed )\n",
    "print (f\"\\nMiles Per Gallon:  \", mpg)\n",
    "print (f\"Total Gas Cost:    \", costPerGalon*gasUsed)\n",
    "print (f\"Cost per Mile:  \", costPerMile )\n"
   ]
  },
  {
   "cell_type": "markdown",
   "metadata": {},
   "source": [
    "6. Write a function called multiply_two() that accepts two parameters. The function should print a message like '15 + 2 = 17'.  Randomly generate two numbers between 1 and 100, then call the function with the two random numbers."
   ]
  },
  {
   "cell_type": "code",
   "execution_count": 28,
   "metadata": {},
   "outputs": [
    {
     "name": "stdout",
     "output_type": "stream",
     "text": [
      "Enter 1st Number: 15\n",
      "Enter 2nd Number: 2\n",
      "15  +  2  =  17\n"
     ]
    }
   ],
   "source": [
    "def  multiply_two( x=1, y=1) :    \n",
    "    area = x +  y    \n",
    "    return area\n",
    "\n",
    "num1 = int (input(\"Enter 1st Number: \"))\n",
    "num2 = int (input(\"Enter 2nd Number: \"))\n",
    "\n",
    "print ( num1, \" + \", num2 , \" = \" , multiply_two (num1, num2) )"
   ]
  },
  {
   "cell_type": "markdown",
   "metadata": {},
   "source": [
    "7. Write a function called make_shirt() that accepts a size and the text of a message. The function should print a sentence summarizing the size of the shirt and the message printed on it. The default shirt size is large and default message is 'I love Python!' Make a default size shirt with a message, a medium shirt with the default message, and a shirt of any size with a different message."
   ]
  },
  {
   "cell_type": "code",
   "execution_count": 39,
   "metadata": {},
   "outputs": [
    {
     "name": "stdout",
     "output_type": "stream",
     "text": [
      "Enter shirt size you want: \n",
      "Enter message o the shirt you like: \n",
      "Large  size  I love Python! \n",
      "\n",
      "Enter shirt size you want: Medium\n",
      "Enter message o the shirt you like: \n",
      "Medium  size   \n",
      "\n",
      "Enter shirt size you want: Small\n",
      "Enter message o the shirt you like: I lovesunsh\n",
      "Small  size  I love sunshine \n",
      "\n"
     ]
    }
   ],
   "source": [
    "def  make_shirt( size=\"Large\", msg=\"I love Python!\") :    \n",
    "    s = input(\"Enter shirt size you want: \")\n",
    "    m = input(\"Enter message to the shirt you like: \")\n",
    "    print (size, \" size \",msg, \"\\n\")\n",
    "    return\n",
    "\n",
    "make_shirt() \n",
    "make_shirt (\"Medium\",\"\")\n",
    "make_shirt (\"Small\", \"I love sunshine\")"
   ]
  },
  {
   "cell_type": "markdown",
   "metadata": {},
   "source": [
    "8. Create a function for a multiplication table.  Get a number from a user and then call you function which produces a multiplication table for that number.\n",
    "The output should look something like this:\n",
    "\n",
    "        Enter a number: 3\n",
    "        3 X 1 = 3\n",
    "        3 X 2 = 6\n",
    "        3 X 3 = 9\n",
    "        3 X 4 = 12\n",
    "        3 X 5 = 15\n",
    "        3 X 6 = 18\n",
    "        3 X 7 = 21\n",
    "        3 X 8 = 24\n",
    "        3 X 9 = 27\n",
    "        "
   ]
  },
  {
   "cell_type": "code",
   "execution_count": 60,
   "metadata": {},
   "outputs": [
    {
     "name": "stdout",
     "output_type": "stream",
     "text": [
      "Enter a number: 3\n",
      "3  x  1  =  3\n",
      "3  x  2  =  6\n",
      "3  x  3  =  9\n",
      "3  x  4  =  12\n",
      "3  x  5  =  15\n",
      "3  x  6  =  18\n",
      "3  x  7  =  21\n",
      "3  x  8  =  24\n",
      "3  x  9  =  27\n",
      "3  x  10  =  30\n",
      "3  x  11  =  33\n",
      "3  x  12  =  36\n"
     ]
    }
   ],
   "source": [
    "def  multiplication_table( num, times) : \n",
    "    num = int(num)*int(times)\n",
    "    return num\n",
    "\n",
    "\n",
    "num = input(\"Enter a number: \")\n",
    "print (num, \" x \", 1, \" = \", multiplication_table(num, 1))\n",
    "print (num, \" x \", 2, \" = \", multiplication_table(num, 2))\n",
    "print (num, \" x \", 3, \" = \", multiplication_table(num, 3))\n",
    "print (num, \" x \", 4, \" = \", multiplication_table(num, 4))\n",
    "print (num, \" x \", 5, \" = \", multiplication_table(num, 5))\n",
    "print (num, \" x \", 6, \" = \", multiplication_table(num, 6))\n",
    "print (num, \" x \", 7, \" = \", multiplication_table(num, 7))\n",
    "print (num, \" x \", 8, \" = \", multiplication_table(num, 8))\n",
    "print (num, \" x \", 9, \" = \", multiplication_table(num, 9))\n",
    "print (num, \" x \", 10, \" = \", multiplication_table(num, 10))\n",
    "print (num, \" x \", 11, \" = \", multiplication_table(num, 11))\n",
    "print (num, \" x \", 12, \" = \", multiplication_table(num, 12))\n",
    " "
   ]
  },
  {
   "cell_type": "markdown",
   "metadata": {},
   "source": [
    "9. Write a function that accepts a string and returns a string that is \n",
    "    - without any leading nor trailing blanks\n",
    "    - converts to all capital letters\n",
    "    - and replaces all blanks with a period(.).  \n",
    "\n",
    "Write a program to accept a string from a user then call your function and display the original string and changed string.  \n",
    "\n",
    "The output should look something like this:\n",
    "\n",
    "        Enter a text: may your dreams come true\n",
    "        \n",
    "        Original Text: may your dreams come true\n",
    "        New Text: MAY.YOUR.DREAMS.COME.TRUE"
   ]
  },
  {
   "cell_type": "code",
   "execution_count": 74,
   "metadata": {},
   "outputs": [
    {
     "name": "stdout",
     "output_type": "stream",
     "text": [
      "Enter a string: may your dreams come true\n",
      "MAY.YOUR.DREAMS.COME.TRUE\n"
     ]
    }
   ],
   "source": [
    "def  multiplication_table( inStr) :\n",
    "     outStr = inStr.strip()\n",
    "     outStr = outStr.upper()\n",
    "     outStr = outStr.replace(\" \", '.')\n",
    "     return outStr\n",
    "\n",
    "\n",
    "word = input(\"Enter a string: \")\n",
    "print (multiplication_table( word))"
   ]
  },
  {
   "cell_type": "markdown",
   "metadata": {},
   "source": [
    "10. Write a function that returns a randomly selected character from a passed string. Write a program to accept a string from a user then call your function and display the original string and selected character.\n",
    "\n",
    "The output should look something like this:\n",
    "\n",
    "        Enter a text: functions\n",
    "        Original Text:\tfunctions\n",
    "        Random character:\ts"
   ]
  },
  {
   "cell_type": "code",
   "execution_count": 93,
   "metadata": {},
   "outputs": [
    {
     "name": "stdout",
     "output_type": "stream",
     "text": [
      "Enter a string: smooth\n",
      "t\n"
     ]
    }
   ],
   "source": [
    "import random as rand\n",
    "def get_rand_char(inStr1) :\n",
    "    start = int(0)\n",
    "    end = int(len(inStr1))\n",
    "    r = rand.randint( start, end )\n",
    "    outChr = inStr1[r]\n",
    "    return outChr\n",
    "\n",
    "word = input(\"Enter a string: \")\n",
    "print (get_rand_char(word))"
   ]
  },
  {
   "cell_type": "code",
   "execution_count": null,
   "metadata": {},
   "outputs": [],
   "source": []
  },
  {
   "cell_type": "code",
   "execution_count": null,
   "metadata": {},
   "outputs": [],
   "source": []
  }
 ],
 "metadata": {
  "kernelspec": {
   "display_name": "Python 3",
   "language": "python",
   "name": "python3"
  },
  "language_info": {
   "codemirror_mode": {
    "name": "ipython",
    "version": 3
   },
   "file_extension": ".py",
   "mimetype": "text/x-python",
   "name": "python",
   "nbconvert_exporter": "python",
   "pygments_lexer": "ipython3",
   "version": "3.8.8"
  }
 },
 "nbformat": 4,
 "nbformat_minor": 4
}
